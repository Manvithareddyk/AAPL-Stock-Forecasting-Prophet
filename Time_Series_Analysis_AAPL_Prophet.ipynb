{
 "cells": [
  {
   "cell_type": "markdown",
   "id": "56193857",
   "metadata": {},
   "source": [
    "# 📈 Time Series Analysis & Forecasting of Apple (AAPL) Stock Prices using Prophet"
   ]
  },
  {
   "cell_type": "markdown",
   "id": "62432fb4",
   "metadata": {},
   "source": [
    "\n",
    "This project performs time series analysis on Apple Inc. (AAPL) stock prices using the `Prophet` library. We download historical data, preprocess it, build a forecast model, and visualize future trends. This type of analysis is critical in financial services.**\n",
    "    "
   ]
  },
  {
   "cell_type": "code",
   "execution_count": null,
   "id": "11973b18",
   "metadata": {},
   "outputs": [],
   "source": [
    "# 📦 Install required libraries (Uncomment if running on Colab)\n",
    "# !pip install yfinance prophet\n",
    "\n",
    "import yfinance as yf\n",
    "import pandas as pd\n",
    "import matplotlib.pyplot as plt\n",
    "from prophet import Prophet\n",
    "    "
   ]
  },
  {
   "cell_type": "markdown",
   "id": "55b372b7",
   "metadata": {},
   "source": [
    "## 🔽 Download AAPL Stock Data"
   ]
  },
  {
   "cell_type": "code",
   "execution_count": null,
   "id": "47f16542",
   "metadata": {},
   "outputs": [],
   "source": [
    "data = yf.download('AAPL', start='2015-01-01', end='2024-12-31')\n",
    "data.reset_index(inplace=True)\n",
    "data.head()\n",
    "    "
   ]
  },
  {
   "cell_type": "markdown",
   "id": "8a76319c",
   "metadata": {},
   "source": [
    "## 🧹 Data Preprocessing for Prophet"
   ]
  },
  {
   "cell_type": "code",
   "execution_count": null,
   "id": "86a07c45",
   "metadata": {},
   "outputs": [],
   "source": [
    "df = data[['Date', 'Close']].rename(columns={'Date': 'ds', 'Close': 'y'})\n",
    "df.head()\n",
    "    "
   ]
  },
  {
   "cell_type": "markdown",
   "id": "4fe2d227",
   "metadata": {},
   "source": [
    "## 🤖 Model Building & Forecasting using Prophet"
   ]
  },
  {
   "cell_type": "code",
   "execution_count": null,
   "id": "777404b4",
   "metadata": {},
   "outputs": [],
   "source": [
    "model = Prophet(daily_seasonality=True)\n",
    "model.fit(df)\n",
    "\n",
    "future = model.make_future_dataframe(periods=180)\n",
    "forecast = model.predict(future)\n",
    "forecast[['ds', 'yhat', 'yhat_lower', 'yhat_upper']].tail()\n",
    "    "
   ]
  },
  {
   "cell_type": "markdown",
   "id": "d8e2d0c9",
   "metadata": {},
   "source": [
    "## 📊 Forecast Plot"
   ]
  },
  {
   "cell_type": "code",
   "execution_count": null,
   "id": "c34ec4ed",
   "metadata": {},
   "outputs": [],
   "source": [
    "fig1 = model.plot(forecast)\n",
    "plt.title(\"Apple (AAPL) Stock Price Forecast\")\n",
    "plt.xlabel(\"Date\")\n",
    "plt.ylabel(\"Price\")\n",
    "plt.show()\n",
    "    "
   ]
  },
  {
   "cell_type": "markdown",
   "id": "cc9debe5",
   "metadata": {},
   "source": [
    "## 🔍 Forecast Components (Trends, Weekly, Yearly)"
   ]
  },
  {
   "cell_type": "code",
   "execution_count": null,
   "id": "d8ca5050",
   "metadata": {},
   "outputs": [],
   "source": [
    "fig2 = model.plot_components(forecast)\n",
    "plt.show()\n",
    "    "
   ]
  },
  {
   "cell_type": "markdown",
   "id": "e8fb9d2e",
   "metadata": {},
   "source": [
    "##  Conclusion"
   ]
  },
  {
   "cell_type": "markdown",
   "id": "6d96da24",
   "metadata": {},
   "source": [
    "\n",
    "- Time Series Forecasting is crucial in financial decision-making.\n",
    "- The Prophet model gave interpretable trends, seasonal patterns, and a 6-month forecast.\n",
    "- This project is highly relevant to roles involving financial analysis and forecasting.\n",
    "\n",

   ]
  }
 ],
 "metadata": {},
 "nbformat": 4,
 "nbformat_minor": 5
}
